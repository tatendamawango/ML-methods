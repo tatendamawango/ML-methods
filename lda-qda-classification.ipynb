{
 "cells": [
  {
   "cell_type": "markdown",
   "metadata": {},
   "source": [
    "__Inputs__"
   ]
  },
  {
   "cell_type": "code",
   "execution_count": 1,
   "metadata": {},
   "outputs": [],
   "source": [
    "import pandas as pd\n",
    "import numpy as np\n",
    "import matplotlib.pyplot as plt\n",
    "from sklearn.discriminant_analysis import LinearDiscriminantAnalysis\n",
    "from sklearn.metrics import accuracy_score, confusion_matrix\n",
    "from sklearn.discriminant_analysis import QuadraticDiscriminantAnalysis\n"
   ]
  },
  {
   "cell_type": "markdown",
   "metadata": {},
   "source": [
    "__1. You can visualize the hand signs by using image() function. For example, the code below plots images of signs with indexes 1, 156, 1435 and 10000. First line instruct to create a layout for 4 images which will be placed into 2x2 grid:\n",
    "par(mfrow=c(2,2),tcl=-0.5, mai=c(0.1,0.1,0.1,0.1), xaxt='n',yaxt='n')\n",
    "for(i in c(1,156,1435,10000)){\n",
    "   hand sign=as.matrix(train[i,2:785])\n",
    "   image(matrix(hand sign,28,28,byrow=F),col=gray.colors(255))\n",
    "}\n",
    "Select any letter (in the training set they are labeled by a number) and plot 16 images of signs representing that particular letter (use 4x4 grid). Discuss data variability and its impact on the classifier training.\n",
    "Hint. Line id_letter=which(train$label==12) returns indices of those train set rows, which has label equal to 12. Also id_letter[1:16] returns first 16 indexes in the train data set of symbol 12.__"
   ]
  },
  {
   "cell_type": "code",
   "execution_count": null,
   "metadata": {},
   "outputs": [
    {
     "data": {
      "image/png": "[encoded data removed]",
      "text/plain": [
       "<Figure size 800x800 with 4 Axes>"
      ]
     },
     "metadata": {},
     "output_type": "display_data"
    }
   ],
   "source": [
    "train = pd.read_csv(\"sign_mnist_train.csv\")\n",
    "test = pd.read_csv(\"sign_mnist_test.csv\")\n",
    "\n",
    "fig, axes = plt.subplots(2, 2, figsize=(8, 8))\n",
    "\n",
    "for i, ax in zip([1, 156, 1435, 10000], axes.flatten()):\n",
    "    hand_sign = np.array(train.iloc[i, 1:]).reshape(28, 28)\n",
    "    ax.imshow(hand_sign, cmap='gray')\n",
    "    ax.axis('off')\n",
    "\n",
    "plt.show()\n"
   ]
  },
  {
   "cell_type": "markdown",
   "metadata": {},
   "source": [
    "__2. Fit LDA to train dataset and report accuracy for test dataset (perhaps a better way to do this is to visualize, because of large number of classes).\n",
    "Hints: overall accuracy can be obtained by this line of code:\n",
    "mean(true_labels==predicted_labels)\n",
    "Accuracies for each class (given that the confusion table is named by confMat):\n",
    "diag(confMat)/colSums(confMat)\n",
    "diag() function returns diagonal elements of confusion matrix. colSums() calculates sums of each columns. Class accuracy is equal to the correct predictions divided by the number of test elements of that particular class.__"
   ]
  },
  {
   "cell_type": "code",
   "execution_count": null,
   "metadata": {},
   "outputs": [
    {
     "name": "stdout",
     "output_type": "stream",
     "text": [
      "Overall Accuracy: 0.4326547685443391\n",
      "Class-wise Accuracies:\n",
      "[0.82175227 0.63194444 0.78709677 0.61632653 0.6064257  0.42105263\n",
      " 0.49712644 0.53669725 0.13194444 0.3897281  0.44019139 0.25888325\n",
      " 0.24054983 0.41869919 0.2074928  0.49390244 0.15972222 0.34552846\n",
      " 0.47983871 0.30075188 0.26589595 0.39805825 0.3258427  0.28614458]\n"
     ]
    }
   ],
   "source": [
    "lda = LinearDiscriminantAnalysis()\n",
    "lda.fit(train.iloc[:, 1:], train['label'])\n",
    "\n",
    "lda_pred = lda.predict(test.iloc[:, 1:])\n",
    "\n",
    "overall_accuracy = accuracy_score(test['label'], lda_pred)\n",
    "print(f\"Overall Accuracy: {overall_accuracy}\")\n",
    "\n",
    "conf_mat = confusion_matrix(test['label'], lda_pred)\n",
    "class_accuracies = np.diag(conf_mat) / np.sum(conf_mat, axis=1)\n",
    "print(\"Class-wise Accuracies:\")\n",
    "print(class_accuracies)\n"
   ]
  },
  {
   "cell_type": "markdown",
   "metadata": {},
   "source": [
    "__3. Reduce number of features, for example, by taking only half of them (you can do this with train[,c(1,seq(2,785,2))]). Fit LDA and report back test accuracies - what do you observe? Can you reduce the number of features even more and increase LDA accuracy? Explain why this increase in accuracy by reducing the number of features may work? In you discussion include the calculation of number of unknown parameters in LDA classifier. A note: this part should be an extensive one. You have to explore a lot of different options (e.g. reduction by 2, by 3, by 4, etc.). Is is not enough to try one or two options.__"
   ]
  },
  {
   "cell_type": "code",
   "execution_count": null,
   "metadata": {},
   "outputs": [
    {
     "name": "stdout",
     "output_type": "stream",
     "text": [
      "Overall Accuracy with Half Features: 0.5050195203569436\n"
     ]
    }
   ],
   "source": [
    "half_features_train = train.iloc[:, [0] + list(range(1, 785, 2))]\n",
    "half_features_test = test.iloc[:, [0] + list(range(1, 785, 2))]\n",
    "\n",
    "lda_half = LinearDiscriminantAnalysis()\n",
    "lda_half.fit(half_features_train.iloc[:, 1:], half_features_train['label'])\n",
    "\n",
    "lda_half_pred = lda_half.predict(half_features_test.iloc[:, 1:])\n",
    "\n",
    "overall_accuracy_half = accuracy_score(test['label'], lda_half_pred)\n",
    "print(f\"Overall Accuracy with Half Features: {overall_accuracy_half}\")\n"
   ]
  },
  {
   "cell_type": "markdown",
   "metadata": {},
   "source": [
    "__4. Fit QDA and report accuracies for each class in test set__"
   ]
  },
  {
   "cell_type": "code",
   "execution_count": null,
   "metadata": {},
   "outputs": [
    {
     "name": "stdout",
     "output_type": "stream",
     "text": [
      "Class-wise Accuracies for QDA:\n"
     ]
    },
    {
     "data": {
      "text/plain": [
       "array([1.        , 0.625     , 0.93225806, 0.92244898, 0.38353414,\n",
       "       0.99190283, 0.70689655, 0.3853211 , 0.78819444, 0.68882175,\n",
       "       0.89952153, 0.4035533 , 0.73539519, 0.68292683, 0.18443804,\n",
       "       1.        , 0.97222222, 0.91869919, 0.58467742, 0.61278195,\n",
       "       0.30346821, 0.89805825, 0.61048689, 0.63253012])"
      ]
     },
     "execution_count": 6,
     "metadata": {},
     "output_type": "execute_result"
    }
   ],
   "source": [
    "qda = QuadraticDiscriminantAnalysis()\n",
    "qda.fit(train.iloc[:, 1:], train['label'])\n",
    "\n",
    "qda_pred = qda.predict(test.iloc[:, 1:])\n",
    "\n",
    "conf_mat_qda = confusion_matrix(test['label'], qda_pred)\n",
    "class_accuracies_qda = np.diag(conf_mat_qda) / np.sum(conf_mat_qda, axis=1)\n",
    "print(\"Class-wise Accuracies for QDA:\")\n",
    "class_accuracies_qda\n"
   ]
  },
  {
   "cell_type": "markdown",
   "metadata": {},
   "source": [
    "__5. Repeat the similar analysis as in part (3) and discuss the results.__"
   ]
  },
  {
   "cell_type": "code",
   "execution_count": null,
   "metadata": {},
   "outputs": [
    {
     "name": "stdout",
     "output_type": "stream",
     "text": [
      "Overall Accuracy with Reduction Factor 2: 0.6483547127718907\n",
      "Overall Accuracy with Reduction Factor 3: 0.7023145566090352\n",
      "Overall Accuracy with Reduction Factor 4: 0.5599553820412716\n",
      "Overall Accuracy with Reduction Factor 5: 0.6939486893474623\n"
     ]
    }
   ],
   "source": [
    "def perform_feature_reduction_and_qda(train_data, test_data, reduction_factor):\n",
    "    reduced_train = train_data.iloc[:, [0] + list(range(1, 785, reduction_factor))]\n",
    "    reduced_test = test_data.iloc[:, [0] + list(range(1, 785, reduction_factor))]\n",
    "\n",
    "    qda_reduced = QuadraticDiscriminantAnalysis()\n",
    "    qda_reduced.fit(reduced_train.iloc[:, 1:], reduced_train['label'])\n",
    "\n",
    "    qda_reduced_pred = qda_reduced.predict(reduced_test.iloc[:, 1:])\n",
    "\n",
    "    overall_accuracy_reduced = accuracy_score(test_data['label'], qda_reduced_pred)\n",
    "\n",
    "    return overall_accuracy_reduced\n",
    "\n",
    "reduction_factors = [2, 3, 4, 5]\n",
    "for reduction_factor in reduction_factors:\n",
    "    accuracy = perform_feature_reduction_and_qda(train, test, reduction_factor)\n",
    "    print(f\"Overall Accuracy with Reduction Factor {reduction_factor}: {accuracy}\")\n"
   ]
  }
 ],
 "metadata": {
  "kernelspec": {
   "display_name": "base",
   "language": "python",
   "name": "python3"
  },
  "language_info": {
   "codemirror_mode": {
    "name": "ipython",
    "version": 3
   },
   "file_extension": ".py",
   "mimetype": "text/x-python",
   "name": "python",
   "nbconvert_exporter": "python",
   "pygments_lexer": "ipython3",
   "version": "3.11.4"
  },
  "orig_nbformat": 4
 },
 "nbformat": 4,
 "nbformat_minor": 2
}
